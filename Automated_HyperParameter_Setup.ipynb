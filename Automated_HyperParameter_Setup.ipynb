{
  "nbformat": 4,
  "nbformat_minor": 0,
  "metadata": {
    "colab": {
      "provenance": [],
      "gpuType": "T4",
      "authorship_tag": "ABX9TyMWNFrCHRKm1jIr1ZLdhrpE",
      "include_colab_link": true
    },
    "kernelspec": {
      "name": "python3",
      "display_name": "Python 3"
    },
    "language_info": {
      "name": "python"
    },
    "accelerator": "GPU"
  },
  "cells": [
    {
      "cell_type": "markdown",
      "metadata": {
        "id": "view-in-github",
        "colab_type": "text"
      },
      "source": [
        "<a href=\"https://colab.research.google.com/github/shreyashkar-ml/Pytorch-learning/blob/main/Automated_HyperParameter_Setup.ipynb\" target=\"_parent\"><img src=\"https://colab.research.google.com/assets/colab-badge.svg\" alt=\"Open In Colab\"/></a>"
      ]
    },
    {
      "cell_type": "code",
      "source": [
        "import inspect"
      ],
      "metadata": {
        "id": "9cC6bn8TnoLv"
      },
      "execution_count": 1,
      "outputs": []
    },
    {
      "cell_type": "code",
      "source": [
        "class Config:\n",
        "  def __init__(self, **kwargs):\n",
        "    frame = inspect.currentframe()\n",
        "    local_vars = inspect.getargvalues(frame).locals\n",
        "    for key, value in local_vars['kwargs'].items():\n",
        "      setattr(self, key, value)"
      ],
      "metadata": {
        "id": "_cgNHGsHndV4"
      },
      "execution_count": 3,
      "outputs": []
    },
    {
      "cell_type": "code",
      "source": [
        "# Example usage\n",
        "app_config = Config(db_name=\"my_database\", max_connections=100, debug = True)\n",
        "\n",
        "print(app_config.db_name)\n",
        "print(app_config.max_connections)\n",
        "print(app_config.debug)"
      ],
      "metadata": {
        "colab": {
          "base_uri": "https://localhost:8080/"
        },
        "id": "aCUoe2dYoFE8",
        "outputId": "01133635-ac6a-481d-be41-1357ae45220c"
      },
      "execution_count": 4,
      "outputs": [
        {
          "output_type": "stream",
          "name": "stdout",
          "text": [
            "my_database\n",
            "100\n",
            "True\n"
          ]
        }
      ]
    },
    {
      "cell_type": "markdown",
      "source": [
        "#### Example in Deep Learning"
      ],
      "metadata": {
        "id": "6EZmFm3zpZjj"
      }
    },
    {
      "cell_type": "code",
      "source": [
        "class HyperParameterConfig:\n",
        "  def __init__(self, **kwargs):\n",
        "    frame = inspect.currentframe()\n",
        "    local_vars = inspect.getargvalues(frame).locals\n",
        "    for key, value in local_vars['kwargs'].items():\n",
        "      setattr(self, key, value)"
      ],
      "metadata": {
        "id": "GVW8fUzho2f_"
      },
      "execution_count": 5,
      "outputs": []
    },
    {
      "cell_type": "code",
      "source": [
        "hyperparams = HyperParameterConfig(\n",
        "    learning_rate = 0.001,\n",
        "    batch_size = 64,\n",
        "    epochs = 10,\n",
        "    optimizer = \"adam\",\n",
        "    dropout_rate = 0.2,\n",
        "    hidden_units = [128,64],\n",
        ")\n",
        "\n",
        "# Access hyperparameters\n",
        "print(hyperparams.learning_rate)\n",
        "print(hyperparams.batch_size)\n",
        "print(hyperparams.epochs)\n",
        "print(hyperparams.optimizer)\n",
        "print(hyperparams.dropout_rate)\n",
        "print(hyperparams.hidden_units)"
      ],
      "metadata": {
        "colab": {
          "base_uri": "https://localhost:8080/"
        },
        "id": "u8GbDbfnpt3b",
        "outputId": "630d633e-ea10-4309-957f-3752a17f7bb1"
      },
      "execution_count": 6,
      "outputs": [
        {
          "output_type": "stream",
          "name": "stdout",
          "text": [
            "0.001\n",
            "64\n",
            "10\n",
            "adam\n",
            "0.2\n",
            "[128, 64]\n"
          ]
        }
      ]
    },
    {
      "cell_type": "code",
      "source": [
        "import torch\n",
        "import torch.nn as nn\n",
        "import torch.optim as optim\n",
        "from torchvision import datasets, transforms\n",
        "from torch.utils.data import DataLoader\n",
        "import inspect"
      ],
      "metadata": {
        "id": "H3y7PO4vqbTa"
      },
      "execution_count": 7,
      "outputs": []
    },
    {
      "cell_type": "code",
      "source": [
        "class SimpleNN(nn.Module):\n",
        "  def __init__(self, input_size, hidden_units, dropout_rate, n_classes = 10):\n",
        "    super(SimpleNN, self).__init__()\n",
        "    self.fc1 = nn.Linear(input_size, hidden_units[0])\n",
        "    self.fc2 = nn.Linear(hidden_units[0], hidden_units[1])\n",
        "    self.dropout = nn.Dropout(dropout_rate)\n",
        "    self.fc3 = nn.Linear(hidden_units[1], n_classes)\n",
        "\n",
        "  def forward(self, x):\n",
        "    x = x.view(-1, 28*28)         # Flatten the input --> 28*28 --> 784\n",
        "    x = torch.relu(self.fc1(x))\n",
        "    x = self.dropout(x)\n",
        "    x = torch.relu(self.fc2(x))\n",
        "    return self.fc3(x)"
      ],
      "metadata": {
        "id": "fp4bkHlNqQI1"
      },
      "execution_count": 10,
      "outputs": []
    },
    {
      "cell_type": "code",
      "source": [
        "hyperparams = HyperParameterConfig(\n",
        "    learning_rate = 0.001,\n",
        "    batch_size = 64,\n",
        "    epochs = 5,\n",
        "    optimizer = \"adam\",\n",
        "    dropout_rate = 0.2,\n",
        "    hidden_units = [128,64],\n",
        ")\n",
        "\n",
        "# Load MNIST Dataset\n",
        "transform = transforms.Compose([transforms.ToTensor(), transforms.Normalize((0.5,), (0.5,))])\n",
        "\n",
        "train_dataset = datasets.MNIST(root='./data', train=True, download=True, transform = transform)\n",
        "train_loader = DataLoader(train_dataset, batch_size = hyperparams.batch_size, shuffle=True)\n",
        "\n",
        "# Instantiate Model and Set Device\n",
        "device = torch.device(\"cuda\" if torch.cuda.is_available() else \"cpu\")\n",
        "input_size = 28*28\n",
        "\n",
        "model = SimpleNN(input_size, hyperparams.hidden_units, hyperparams.dropout_rate).to(device)\n",
        "\n",
        "optimizer = optim.Adam(model.parameters(), lr=hyperparams.learning_rate) if hyperparams.optimizer == \"adam\" else optim.sgd(model.parameters(), lr=hyperparams.learning_rate)\n",
        "criterion = nn.CrossEntropyLoss()"
      ],
      "metadata": {
        "id": "YKY9AeCBtaXw"
      },
      "execution_count": 23,
      "outputs": []
    },
    {
      "cell_type": "code",
      "source": [
        "def train_model(model, optimizer, criterion, epochs, train_loader):\n",
        "  model.train()\n",
        "  for epoch in range(epochs):\n",
        "    running_loss = 0.0\n",
        "    for inputs, labels in train_loader:\n",
        "      inputs, labels = inputs.to(device), labels.to(device)\n",
        "      optimizer.zero_grad()     # Zero the parameter gradients\n",
        "      outputs = model(inputs)\n",
        "      loss = criterion(outputs, labels)\n",
        "      loss.backward()           # Backpropagate the loss\n",
        "\n",
        "      optimizer.step()          # Update weights\n",
        "\n",
        "      running_loss += loss.item()\n",
        "\n",
        "    print(f\"Epoch {epoch+1}/{epochs}, Loss: {running_loss / len(train_loader)}\")"
      ],
      "metadata": {
        "id": "uAgmxlAjsflv"
      },
      "execution_count": 26,
      "outputs": []
    },
    {
      "cell_type": "code",
      "source": [
        "train_model(model, optimizer, criterion, hyperparams.epochs, train_loader)"
      ],
      "metadata": {
        "colab": {
          "base_uri": "https://localhost:8080/"
        },
        "id": "wip4hZz5v5aM",
        "outputId": "153b8c89-df64-4ddd-b53c-339f028d297f"
      },
      "execution_count": 27,
      "outputs": [
        {
          "output_type": "stream",
          "name": "stdout",
          "text": [
            "Epoch 1/5, Loss: 0.13177062278248067\n",
            "Epoch 2/5, Loss: 0.12357729150137223\n",
            "Epoch 3/5, Loss: 0.11617696313842782\n",
            "Epoch 4/5, Loss: 0.11015708800822274\n",
            "Epoch 5/5, Loss: 0.1065674691047988\n"
          ]
        }
      ]
    },
    {
      "cell_type": "code",
      "source": [],
      "metadata": {
        "id": "Ymm9H4kzwKs6"
      },
      "execution_count": null,
      "outputs": []
    }
  ]
}